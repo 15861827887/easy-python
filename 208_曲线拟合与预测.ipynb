# 作者：西岛闲鱼
# https://github.com/globien/easy-python
# https://gitee.com/globien/easy-python

# 多项式曲线拟合

import numpy as np
from matplotlib import pyplot as plt


x = [20, 40, 60, 80, 100, 120, 140]
y = [44.50, 75.65, 103.05, 138.35, 168.20, 187.30, 210.85]
parameters = np.polyfit(x, y, 1)
func = np.poly1d(parameters)
print(parameters)

plt.scatter(x, y)                      # print the original numbers in dots
x = [0] + x + [160]
plt.grid(True, color='gray')
plt.plot(x, func(x), color='orange', linestyle = '--')
plt.xlim(0, 160)
plt.ylim(0, 300)
plt.xlabel('W (Kg)')
plt.ylabel('F (N)')
plt.show()
